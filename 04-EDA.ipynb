{
 "cells": [
  {
   "cell_type": "markdown",
   "metadata": {},
   "source": [
    "El EDA es una fase importante para comprender los datos antes de realizar cualquier análisis o construir modelos.\n",
    "\n",
    "Considero que, EN PARTE, ya lo he aplicado para el desarrollo de cada una de las consignas previas.\n",
    "\n",
    "A continuacion observamos algunos análisis de los datos, orientado a donde después aplicaría el modelo de ML."
   ]
  },
  {
   "cell_type": "markdown",
   "metadata": {},
   "source": [
    "Primero desarrollamos un DF  entre la base de datos de juegos y las reviews."
   ]
  },
  {
   "cell_type": "code",
   "execution_count": 13,
   "metadata": {},
   "outputs": [],
   "source": [
    "import pandas as pd\n",
    "import json\n",
    "import ast"
   ]
  },
  {
   "cell_type": "code",
   "execution_count": 14,
   "metadata": {},
   "outputs": [
    {
     "data": {
      "text/html": [
       "<div>\n",
       "<style scoped>\n",
       "    .dataframe tbody tr th:only-of-type {\n",
       "        vertical-align: middle;\n",
       "    }\n",
       "\n",
       "    .dataframe tbody tr th {\n",
       "        vertical-align: top;\n",
       "    }\n",
       "\n",
       "    .dataframe thead th {\n",
       "        text-align: right;\n",
       "    }\n",
       "</style>\n",
       "<table border=\"1\" class=\"dataframe\">\n",
       "  <thead>\n",
       "    <tr style=\"text-align: right;\">\n",
       "      <th></th>\n",
       "      <th>publisher</th>\n",
       "      <th>genres</th>\n",
       "      <th>app_name</th>\n",
       "      <th>title</th>\n",
       "      <th>url</th>\n",
       "      <th>release_date</th>\n",
       "      <th>tags</th>\n",
       "      <th>reviews_url</th>\n",
       "      <th>specs</th>\n",
       "      <th>price</th>\n",
       "      <th>early_access</th>\n",
       "      <th>id</th>\n",
       "      <th>developer</th>\n",
       "    </tr>\n",
       "  </thead>\n",
       "  <tbody>\n",
       "    <tr>\n",
       "      <th>0</th>\n",
       "      <td>NaN</td>\n",
       "      <td>NaN</td>\n",
       "      <td>NaN</td>\n",
       "      <td>NaN</td>\n",
       "      <td>NaN</td>\n",
       "      <td>NaN</td>\n",
       "      <td>NaN</td>\n",
       "      <td>NaN</td>\n",
       "      <td>NaN</td>\n",
       "      <td>NaN</td>\n",
       "      <td>NaN</td>\n",
       "      <td>NaN</td>\n",
       "      <td>NaN</td>\n",
       "    </tr>\n",
       "    <tr>\n",
       "      <th>1</th>\n",
       "      <td>NaN</td>\n",
       "      <td>NaN</td>\n",
       "      <td>NaN</td>\n",
       "      <td>NaN</td>\n",
       "      <td>NaN</td>\n",
       "      <td>NaN</td>\n",
       "      <td>NaN</td>\n",
       "      <td>NaN</td>\n",
       "      <td>NaN</td>\n",
       "      <td>NaN</td>\n",
       "      <td>NaN</td>\n",
       "      <td>NaN</td>\n",
       "      <td>NaN</td>\n",
       "    </tr>\n",
       "    <tr>\n",
       "      <th>2</th>\n",
       "      <td>NaN</td>\n",
       "      <td>NaN</td>\n",
       "      <td>NaN</td>\n",
       "      <td>NaN</td>\n",
       "      <td>NaN</td>\n",
       "      <td>NaN</td>\n",
       "      <td>NaN</td>\n",
       "      <td>NaN</td>\n",
       "      <td>NaN</td>\n",
       "      <td>NaN</td>\n",
       "      <td>NaN</td>\n",
       "      <td>NaN</td>\n",
       "      <td>NaN</td>\n",
       "    </tr>\n",
       "    <tr>\n",
       "      <th>3</th>\n",
       "      <td>NaN</td>\n",
       "      <td>NaN</td>\n",
       "      <td>NaN</td>\n",
       "      <td>NaN</td>\n",
       "      <td>NaN</td>\n",
       "      <td>NaN</td>\n",
       "      <td>NaN</td>\n",
       "      <td>NaN</td>\n",
       "      <td>NaN</td>\n",
       "      <td>NaN</td>\n",
       "      <td>NaN</td>\n",
       "      <td>NaN</td>\n",
       "      <td>NaN</td>\n",
       "    </tr>\n",
       "    <tr>\n",
       "      <th>4</th>\n",
       "      <td>NaN</td>\n",
       "      <td>NaN</td>\n",
       "      <td>NaN</td>\n",
       "      <td>NaN</td>\n",
       "      <td>NaN</td>\n",
       "      <td>NaN</td>\n",
       "      <td>NaN</td>\n",
       "      <td>NaN</td>\n",
       "      <td>NaN</td>\n",
       "      <td>NaN</td>\n",
       "      <td>NaN</td>\n",
       "      <td>NaN</td>\n",
       "      <td>NaN</td>\n",
       "    </tr>\n",
       "  </tbody>\n",
       "</table>\n",
       "</div>"
      ],
      "text/plain": [
       "  publisher genres app_name title  url release_date tags reviews_url specs  \\\n",
       "0       NaN    NaN      NaN   NaN  NaN          NaN  NaN         NaN   NaN   \n",
       "1       NaN    NaN      NaN   NaN  NaN          NaN  NaN         NaN   NaN   \n",
       "2       NaN    NaN      NaN   NaN  NaN          NaN  NaN         NaN   NaN   \n",
       "3       NaN    NaN      NaN   NaN  NaN          NaN  NaN         NaN   NaN   \n",
       "4       NaN    NaN      NaN   NaN  NaN          NaN  NaN         NaN   NaN   \n",
       "\n",
       "  price early_access   id developer  \n",
       "0   NaN          NaN  NaN       NaN  \n",
       "1   NaN          NaN  NaN       NaN  \n",
       "2   NaN          NaN  NaN       NaN  \n",
       "3   NaN          NaN  NaN       NaN  \n",
       "4   NaN          NaN  NaN       NaN  "
      ]
     },
     "execution_count": 14,
     "metadata": {},
     "output_type": "execute_result"
    }
   ],
   "source": [
    "rows = []\n",
    "with open('Datasets/steam_games.json', 'r') as f:\n",
    "        for line in f.readlines():\n",
    "            data = json.loads(line)\n",
    "            rows.append(data)\n",
    "\n",
    "dfgames = pd.DataFrame(rows)\n",
    "dfgames.head()"
   ]
  },
  {
   "cell_type": "code",
   "execution_count": 15,
   "metadata": {},
   "outputs": [
    {
     "data": {
      "text/html": [
       "<div>\n",
       "<style scoped>\n",
       "    .dataframe tbody tr th:only-of-type {\n",
       "        vertical-align: middle;\n",
       "    }\n",
       "\n",
       "    .dataframe tbody tr th {\n",
       "        vertical-align: top;\n",
       "    }\n",
       "\n",
       "    .dataframe thead th {\n",
       "        text-align: right;\n",
       "    }\n",
       "</style>\n",
       "<table border=\"1\" class=\"dataframe\">\n",
       "  <thead>\n",
       "    <tr style=\"text-align: right;\">\n",
       "      <th></th>\n",
       "      <th>user_id</th>\n",
       "      <th>user_url</th>\n",
       "      <th>reviews</th>\n",
       "    </tr>\n",
       "  </thead>\n",
       "  <tbody>\n",
       "    <tr>\n",
       "      <th>0</th>\n",
       "      <td>76561197970982479</td>\n",
       "      <td>http://steamcommunity.com/profiles/76561197970...</td>\n",
       "      <td>[{'funny': '', 'posted': 'Posted November 5, 2...</td>\n",
       "    </tr>\n",
       "    <tr>\n",
       "      <th>1</th>\n",
       "      <td>js41637</td>\n",
       "      <td>http://steamcommunity.com/id/js41637</td>\n",
       "      <td>[{'funny': '', 'posted': 'Posted June 24, 2014...</td>\n",
       "    </tr>\n",
       "    <tr>\n",
       "      <th>2</th>\n",
       "      <td>evcentric</td>\n",
       "      <td>http://steamcommunity.com/id/evcentric</td>\n",
       "      <td>[{'funny': '', 'posted': 'Posted February 3.',...</td>\n",
       "    </tr>\n",
       "    <tr>\n",
       "      <th>3</th>\n",
       "      <td>doctr</td>\n",
       "      <td>http://steamcommunity.com/id/doctr</td>\n",
       "      <td>[{'funny': '', 'posted': 'Posted October 14, 2...</td>\n",
       "    </tr>\n",
       "    <tr>\n",
       "      <th>4</th>\n",
       "      <td>maplemage</td>\n",
       "      <td>http://steamcommunity.com/id/maplemage</td>\n",
       "      <td>[{'funny': '3 people found this review funny',...</td>\n",
       "    </tr>\n",
       "  </tbody>\n",
       "</table>\n",
       "</div>"
      ],
      "text/plain": [
       "             user_id                                           user_url  \\\n",
       "0  76561197970982479  http://steamcommunity.com/profiles/76561197970...   \n",
       "1            js41637               http://steamcommunity.com/id/js41637   \n",
       "2          evcentric             http://steamcommunity.com/id/evcentric   \n",
       "3              doctr                 http://steamcommunity.com/id/doctr   \n",
       "4          maplemage             http://steamcommunity.com/id/maplemage   \n",
       "\n",
       "                                             reviews  \n",
       "0  [{'funny': '', 'posted': 'Posted November 5, 2...  \n",
       "1  [{'funny': '', 'posted': 'Posted June 24, 2014...  \n",
       "2  [{'funny': '', 'posted': 'Posted February 3.',...  \n",
       "3  [{'funny': '', 'posted': 'Posted October 14, 2...  \n",
       "4  [{'funny': '3 people found this review funny',...  "
      ]
     },
     "execution_count": 15,
     "metadata": {},
     "output_type": "execute_result"
    }
   ],
   "source": [
    "rows2 = []\n",
    "with open('Datasets/user_reviews.json', 'rt',encoding= 'utf-8') as f:\n",
    "    for line in f.readlines():\n",
    "        rows2.append(ast.literal_eval(line))\n",
    "dfreviews = pd.DataFrame(rows2)\n",
    "dfreviews.head()"
   ]
  },
  {
   "cell_type": "code",
   "execution_count": 16,
   "metadata": {},
   "outputs": [],
   "source": [
    "dfgames.dropna(how='all', inplace=True)\n",
    "dfreviews.dropna(how='all', inplace=True)"
   ]
  },
  {
   "cell_type": "code",
   "execution_count": 17,
   "metadata": {},
   "outputs": [],
   "source": [
    "dfgames=dfgames[['id','genres']]"
   ]
  },
  {
   "cell_type": "code",
   "execution_count": 18,
   "metadata": {},
   "outputs": [],
   "source": [
    "dfreviews = dfreviews.explode('reviews')\n",
    "dfreviews['item_id'] = dfreviews['reviews'].apply(lambda x: x.get('item_id') if isinstance(x, dict) else '')\n",
    "dfreviews['recommend'] = dfreviews['reviews'].apply(lambda x: x.get('recommend') if isinstance(x, dict) else '')\n",
    "dfreviews['review'] = dfreviews['reviews'].apply(lambda x: x.get('review') if isinstance(x, dict) else '')"
   ]
  },
  {
   "cell_type": "code",
   "execution_count": 19,
   "metadata": {},
   "outputs": [],
   "source": [
    "dfreviews=dfreviews[['user_id','item_id','recommend','review']]\n"
   ]
  },
  {
   "cell_type": "code",
   "execution_count": 20,
   "metadata": {},
   "outputs": [
    {
     "data": {
      "text/html": [
       "<div>\n",
       "<style scoped>\n",
       "    .dataframe tbody tr th:only-of-type {\n",
       "        vertical-align: middle;\n",
       "    }\n",
       "\n",
       "    .dataframe tbody tr th {\n",
       "        vertical-align: top;\n",
       "    }\n",
       "\n",
       "    .dataframe thead th {\n",
       "        text-align: right;\n",
       "    }\n",
       "</style>\n",
       "<table border=\"1\" class=\"dataframe\">\n",
       "  <thead>\n",
       "    <tr style=\"text-align: right;\">\n",
       "      <th></th>\n",
       "      <th>user_id</th>\n",
       "      <th>item_id</th>\n",
       "      <th>recommend</th>\n",
       "      <th>review</th>\n",
       "      <th>id</th>\n",
       "      <th>genres</th>\n",
       "    </tr>\n",
       "  </thead>\n",
       "  <tbody>\n",
       "    <tr>\n",
       "      <th>0</th>\n",
       "      <td>76561197970982479</td>\n",
       "      <td>1250</td>\n",
       "      <td>True</td>\n",
       "      <td>Simple yet with great replayability. In my opi...</td>\n",
       "      <td>1250</td>\n",
       "      <td>[Action]</td>\n",
       "    </tr>\n",
       "    <tr>\n",
       "      <th>1</th>\n",
       "      <td>76561197970982479</td>\n",
       "      <td>22200</td>\n",
       "      <td>True</td>\n",
       "      <td>It's unique and worth a playthrough.</td>\n",
       "      <td>22200</td>\n",
       "      <td>[Action, Indie]</td>\n",
       "    </tr>\n",
       "    <tr>\n",
       "      <th>2</th>\n",
       "      <td>76561197970982479</td>\n",
       "      <td>43110</td>\n",
       "      <td>True</td>\n",
       "      <td>Great atmosphere. The gunplay can be a bit chu...</td>\n",
       "      <td>NaN</td>\n",
       "      <td>NaN</td>\n",
       "    </tr>\n",
       "    <tr>\n",
       "      <th>3</th>\n",
       "      <td>js41637</td>\n",
       "      <td>251610</td>\n",
       "      <td>True</td>\n",
       "      <td>I know what you think when you see this title ...</td>\n",
       "      <td>NaN</td>\n",
       "      <td>NaN</td>\n",
       "    </tr>\n",
       "    <tr>\n",
       "      <th>4</th>\n",
       "      <td>js41637</td>\n",
       "      <td>227300</td>\n",
       "      <td>True</td>\n",
       "      <td>For a simple (it's actually not all that simpl...</td>\n",
       "      <td>227300</td>\n",
       "      <td>[Indie, Simulation]</td>\n",
       "    </tr>\n",
       "  </tbody>\n",
       "</table>\n",
       "</div>"
      ],
      "text/plain": [
       "             user_id item_id recommend  \\\n",
       "0  76561197970982479    1250      True   \n",
       "1  76561197970982479   22200      True   \n",
       "2  76561197970982479   43110      True   \n",
       "3            js41637  251610      True   \n",
       "4            js41637  227300      True   \n",
       "\n",
       "                                              review      id  \\\n",
       "0  Simple yet with great replayability. In my opi...    1250   \n",
       "1               It's unique and worth a playthrough.   22200   \n",
       "2  Great atmosphere. The gunplay can be a bit chu...     NaN   \n",
       "3  I know what you think when you see this title ...     NaN   \n",
       "4  For a simple (it's actually not all that simpl...  227300   \n",
       "\n",
       "                genres  \n",
       "0             [Action]  \n",
       "1      [Action, Indie]  \n",
       "2                  NaN  \n",
       "3                  NaN  \n",
       "4  [Indie, Simulation]  "
      ]
     },
     "execution_count": 20,
     "metadata": {},
     "output_type": "execute_result"
    }
   ],
   "source": [
    "df_merged = dfreviews.merge(dfgames, left_on='item_id', right_on='id', how='left')\n",
    "df_merged.head()"
   ]
  },
  {
   "cell_type": "code",
   "execution_count": 21,
   "metadata": {},
   "outputs": [],
   "source": [
    "df_merged = df_merged.dropna(subset=['id', 'genres'])\n"
   ]
  },
  {
   "cell_type": "code",
   "execution_count": 22,
   "metadata": {},
   "outputs": [],
   "source": [
    "from textblob import TextBlob\n",
    "# Función para realizar el análisis de sentimiento\n",
    "def sentiment_analysis(text):\n",
    "    if isinstance(text, str):\n",
    "        analysis = TextBlob(text)\n",
    "        polarity = analysis.sentiment.polarity\n",
    "        if polarity < 0:\n",
    "            return 0  # Sentimiento negativo\n",
    "        elif polarity == 0:\n",
    "            return 1  # Sentimiento neutral\n",
    "        else:\n",
    "            return 2  # Sentimiento positivo\n",
    "    else:\n",
    "        return 1  # Valor por defecto para valores nulos o no strings\n",
    "\n",
    "# Aplicar la función a la columna 'review' y crear la nueva columna 'sentiment_analysis'\n",
    "df_merged['sentiment_analysis'] = df_merged['review'].apply(sentiment_analysis)\n"
   ]
  },
  {
   "cell_type": "code",
   "execution_count": 23,
   "metadata": {},
   "outputs": [],
   "source": [
    "dfreviews=dfreviews[['user_id','item_id','recommend','review']]"
   ]
  },
  {
   "cell_type": "code",
   "execution_count": 24,
   "metadata": {},
   "outputs": [],
   "source": [
    "df_merged['item_id'] = df_merged['item_id'].astype(int)"
   ]
  },
  {
   "cell_type": "code",
   "execution_count": null,
   "metadata": {},
   "outputs": [],
   "source": [
    "df_merged.drop(columns=['review','id'], inplace=True)"
   ]
  },
  {
   "cell_type": "markdown",
   "metadata": {},
   "source": [
    "Exploración inicial de datos:"
   ]
  },
  {
   "cell_type": "code",
   "execution_count": 27,
   "metadata": {},
   "outputs": [
    {
     "data": {
      "text/html": [
       "<div>\n",
       "<style scoped>\n",
       "    .dataframe tbody tr th:only-of-type {\n",
       "        vertical-align: middle;\n",
       "    }\n",
       "\n",
       "    .dataframe tbody tr th {\n",
       "        vertical-align: top;\n",
       "    }\n",
       "\n",
       "    .dataframe thead th {\n",
       "        text-align: right;\n",
       "    }\n",
       "</style>\n",
       "<table border=\"1\" class=\"dataframe\">\n",
       "  <thead>\n",
       "    <tr style=\"text-align: right;\">\n",
       "      <th></th>\n",
       "      <th>user_id</th>\n",
       "      <th>item_id</th>\n",
       "      <th>recommend</th>\n",
       "      <th>genres</th>\n",
       "      <th>sentiment_analysis</th>\n",
       "    </tr>\n",
       "  </thead>\n",
       "  <tbody>\n",
       "    <tr>\n",
       "      <th>0</th>\n",
       "      <td>76561197970982479</td>\n",
       "      <td>1250</td>\n",
       "      <td>True</td>\n",
       "      <td>[Action]</td>\n",
       "      <td>2</td>\n",
       "    </tr>\n",
       "    <tr>\n",
       "      <th>1</th>\n",
       "      <td>76561197970982479</td>\n",
       "      <td>22200</td>\n",
       "      <td>True</td>\n",
       "      <td>[Action, Indie]</td>\n",
       "      <td>2</td>\n",
       "    </tr>\n",
       "    <tr>\n",
       "      <th>4</th>\n",
       "      <td>js41637</td>\n",
       "      <td>227300</td>\n",
       "      <td>True</td>\n",
       "      <td>[Indie, Simulation]</td>\n",
       "      <td>0</td>\n",
       "    </tr>\n",
       "    <tr>\n",
       "      <th>5</th>\n",
       "      <td>js41637</td>\n",
       "      <td>239030</td>\n",
       "      <td>True</td>\n",
       "      <td>[Adventure, Indie]</td>\n",
       "      <td>0</td>\n",
       "    </tr>\n",
       "    <tr>\n",
       "      <th>6</th>\n",
       "      <td>evcentric</td>\n",
       "      <td>248820</td>\n",
       "      <td>True</td>\n",
       "      <td>[Action, Indie, RPG]</td>\n",
       "      <td>2</td>\n",
       "    </tr>\n",
       "  </tbody>\n",
       "</table>\n",
       "</div>"
      ],
      "text/plain": [
       "             user_id  item_id recommend                genres  \\\n",
       "0  76561197970982479     1250      True              [Action]   \n",
       "1  76561197970982479    22200      True       [Action, Indie]   \n",
       "4            js41637   227300      True   [Indie, Simulation]   \n",
       "5            js41637   239030      True    [Adventure, Indie]   \n",
       "6          evcentric   248820      True  [Action, Indie, RPG]   \n",
       "\n",
       "   sentiment_analysis  \n",
       "0                   2  \n",
       "1                   2  \n",
       "4                   0  \n",
       "5                   0  \n",
       "6                   2  "
      ]
     },
     "execution_count": 27,
     "metadata": {},
     "output_type": "execute_result"
    }
   ],
   "source": [
    "df_merged.head()"
   ]
  },
  {
   "cell_type": "code",
   "execution_count": 29,
   "metadata": {},
   "outputs": [
    {
     "name": "stdout",
     "output_type": "stream",
     "text": [
      "<class 'pandas.core.frame.DataFrame'>\n",
      "Index: 50451 entries, 0 to 59332\n",
      "Data columns (total 5 columns):\n",
      " #   Column              Non-Null Count  Dtype \n",
      "---  ------              --------------  ----- \n",
      " 0   user_id             50451 non-null  object\n",
      " 1   item_id             50451 non-null  int64 \n",
      " 2   recommend           50451 non-null  object\n",
      " 3   genres              50451 non-null  object\n",
      " 4   sentiment_analysis  50451 non-null  int64 \n",
      "dtypes: int64(2), object(3)\n",
      "memory usage: 2.3+ MB\n"
     ]
    }
   ],
   "source": [
    "df_merged.info()"
   ]
  },
  {
   "cell_type": "markdown",
   "metadata": {},
   "source": [
    "* Información General:\n",
    "\n",
    "El DataFrame tiene 50,451 filas y 5 columnas \\\\ No hay valores nulos en ninguna de las columnas.\n",
    "* Columnas Categóricas:\n",
    "\n",
    "user_id, item_id,recommend, y genres son columnas categóricas.\n",
    "\n",
    "user_id contiene identificadores de usuarios.\n",
    "\n",
    "item_id contiene identificadores de juegos.\n",
    "\n",
    "recommend es una columna categórica booleana que indica si se recomienda un juego.\n",
    "\n",
    "genres es una lista de géneros de juegos, esta la utilizaremos en el Modelo de ML para realizar una conversión one-hot.\n",
    "\n",
    "* Columnas Numéricas:\n",
    "\n",
    "sentiment_analysis medida numérica relacionada con el análisis de sentimientos. 0: Negativo ; 1: Neutro ; 2: Positivo"
   ]
  },
  {
   "cell_type": "code",
   "execution_count": 31,
   "metadata": {},
   "outputs": [
    {
     "data": {
      "text/plain": [
       "user_id               0\n",
       "item_id               0\n",
       "recommend             0\n",
       "genres                0\n",
       "sentiment_analysis    0\n",
       "dtype: int64"
      ]
     },
     "execution_count": 31,
     "metadata": {},
     "output_type": "execute_result"
    }
   ],
   "source": [
    "df_merged.isnull().sum()"
   ]
  },
  {
   "cell_type": "markdown",
   "metadata": {},
   "source": [
    "Análisis de distribuciones:\n"
   ]
  },
  {
   "cell_type": "code",
   "execution_count": 33,
   "metadata": {},
   "outputs": [
    {
     "data": {
      "image/png": "[encoded data removed]",
      "text/plain": [
       "<Figure size 640x480 with 1 Axes>"
      ]
     },
     "metadata": {},
     "output_type": "display_data"
    }
   ],
   "source": [
    "import matplotlib.pyplot as plt\n",
    "import seaborn as sns\n",
    "\n",
    "# Histogramas de 'sentiment_analysis'\n",
    "sns.histplot(df_merged['sentiment_analysis'], bins=10)\n",
    "plt.xlabel('Sentiment Analysis')\n",
    "plt.ylabel('Frecuencia')\n",
    "plt.title('Distribución de Sentiment Analysis')\n",
    "plt.show()"
   ]
  },
  {
   "cell_type": "code",
   "execution_count": 34,
   "metadata": {},
   "outputs": [
    {
     "data": {
      "image/png": "[encoded data removed]",
      "text/plain": [
       "<Figure size 640x480 with 1 Axes>"
      ]
     },
     "metadata": {},
     "output_type": "display_data"
    }
   ],
   "source": [
    "\n",
    "# Gráfico de barras para 'recommend'\n",
    "sns.countplot(data=df_merged, x='recommend')\n",
    "plt.xlabel('Recommend')\n",
    "plt.ylabel('Frecuencia')\n",
    "plt.title('Distribución de Recommend')\n",
    "plt.show()"
   ]
  },
  {
   "cell_type": "markdown",
   "metadata": {},
   "source": [
    "Resumen de Sentimientos:"
   ]
  },
  {
   "cell_type": "code",
   "execution_count": 37,
   "metadata": {},
   "outputs": [
    {
     "name": "stdout",
     "output_type": "stream",
     "text": [
      "Media de Sentimientos: 1.3579116370339537\n",
      "Desviación Estándar de Sentimientos: 0.8099014313147952\n"
     ]
    }
   ],
   "source": [
    "media_sentimientos = df_merged['sentiment_analysis'].mean()\n",
    "desviacion_sentimientos = df_merged['sentiment_analysis'].std()\n",
    "\n",
    "print(f\"Media de Sentimientos: {media_sentimientos}\")\n",
    "print(f\"Desviación Estándar de Sentimientos: {desviacion_sentimientos}\")"
   ]
  },
  {
   "cell_type": "markdown",
   "metadata": {},
   "source": [
    "1. **Media de Sentimientos (Polaridad Promedio):**\n",
    "   - La media de sentimientos es aproximadamente 1.36, lo que sugiere que, en promedio, las opiniones tienden a ser más positivas que negativas.\n",
    "   - Un valor de 1.36 está más cerca del extremo positivo (2) en la escala de sentimientos, lo que indica que las opiniones tienden a ser más positivas en general.\n",
    "\n",
    "2. **Desviación Estándar de Sentimientos (Variabilidad):**\n",
    "   - La desviación estándar de sentimientos es aproximadamente 0.81, lo que indica una moderada variabilidad en las puntuaciones de análisis de sentimientos.\n",
    "   - Esta variabilidad sugiere que hay una gama de opiniones, con algunas opiniones más negativas y otras más positivas.\n",
    "\n",
    "En resumen, los resultados indican que, en promedio, las opiniones son positivas, pero existe una variabilidad significativa en las puntuaciones de análisis de sentimientos.\n",
    "\n",
    "Exploramos ahora estos sentimientos contrastando con lo que recomienda o no los usuarios:"
   ]
  },
  {
   "cell_type": "code",
   "execution_count": 38,
   "metadata": {},
   "outputs": [
    {
     "name": "stdout",
     "output_type": "stream",
     "text": [
      "Media de Sentimientos para Juegos Recomendados: 1.4257513585449706\n",
      "Media de Sentimientos para Juegos No Recomendados: 0.7879239657100261\n"
     ]
    }
   ],
   "source": [
    "media_sentimientos_recomendados = df_merged[df_merged['recommend'] == True]['sentiment_analysis'].mean()\n",
    "media_sentimientos_no_recomendados = df_merged[df_merged['recommend'] == False]['sentiment_analysis'].mean()\n",
    "\n",
    "print(f\"Media de Sentimientos para Juegos Recomendados: {media_sentimientos_recomendados}\")\n",
    "print(f\"Media de Sentimientos para Juegos No Recomendados: {media_sentimientos_no_recomendados}\")"
   ]
  },
  {
   "cell_type": "markdown",
   "metadata": {},
   "source": [
    "La relación entre las puntuaciones de análisis de sentimientos y la recomendación de juegos (recomendados vs. no recomendados) es notable y puede ofrecer algunas conclusiones interesantes:\n",
    "\n",
    "1. **Diferencia en la Media de Sentimientos:**\n",
    "   - La media de sentimientos para juegos recomendados es aproximadamente 1.43, lo que indica que, en promedio, los juegos recomendados tienen puntuaciones de análisis de sentimientos más positivas.\n",
    "\n",
    "   - Por otro lado, la media de sentimientos para juegos no recomendados es aproximadamente 0.79, lo que sugiere que los juegos no recomendados tienen puntuaciones de análisis de sentimientos más bajas en promedio.\n",
    "\n",
    "2. **Implicaciones:**\n",
    "   - La diferencia significativa en la media de sentimientos entre juegos recomendados y no recomendados sugiere que los juegos recomendados tienden a recibir opiniones más positivas por parte de los usuarios.\n",
    "\n",
    "3. **Potencial para la Función de Recomendación:**\n",
    "   - Estos hallazgos pueden ser útiles para mejorar aún más la función de recomendación. Por ejemplo, se puede considerar priorizar juegos con puntuaciones de análisis de sentimientos más altas al generar recomendaciones.\n",
    "\n",
    "   - También se podría explorar cómo otras variables, como los géneros de los juegos, interactúan con las puntuaciones de análisis de sentimientos y la recomendación, para proporcionar recomendaciones más precisas y personalizadas a los usuarios.\n",
    "\n",
    "En resumen, la diferencia en la media de sentimientos entre juegos recomendados y no recomendados indica una relación clara entre la recomendación y las opiniones de los usuarios. Esto sugiere que la función de recomendación se basa en parte en la satisfacción de los usuarios con los juegos y que las opiniones positivas influyen en las recomendaciones."
   ]
  },
  {
   "cell_type": "code",
   "execution_count": 39,
   "metadata": {},
   "outputs": [],
   "source": [
    "df_merged.to_csv('eda.csv', index=False)"
   ]
  },
  {
   "cell_type": "code",
   "execution_count": null,
   "metadata": {},
   "outputs": [],
   "source": []
  }
 ],
 "metadata": {
  "kernelspec": {
   "display_name": "base",
   "language": "python",
   "name": "python3"
  },
  "language_info": {
   "codemirror_mode": {
    "name": "ipython",
    "version": 3
   },
   "file_extension": ".py",
   "mimetype": "text/x-python",
   "name": "python",
   "nbconvert_exporter": "python",
   "pygments_lexer": "ipython3",
   "version": "3.10.9"
  },
  "orig_nbformat": 4
 },
 "nbformat": 4,
 "nbformat_minor": 2
}
